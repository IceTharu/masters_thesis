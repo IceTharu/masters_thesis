{
 "cells": [
  {
   "cell_type": "code",
   "execution_count": 8,
   "metadata": {},
   "outputs": [],
   "source": [
    "import os\n",
    "import sys\n",
    "import random\n",
    "import math\n",
    "import re\n",
    "import time\n",
    "import numpy as np\n",
    "import tensorflow as tf\n",
    "import matplotlib\n",
    "import matplotlib.pyplot as plt\n",
    "import matplotlib.patches as patches\n",
    "\n",
    "# Root directory of the project\n",
    "ROOT_DIR = os.path.abspath(\"../../\")\n",
    "\n",
    "# Import Mask RCNN\n",
    "sys.path.append(ROOT_DIR)  # To find local version of the library\n",
    "from mrcnn import utils\n",
    "from mrcnn import visualize\n",
    "from mrcnn.visualize import display_images\n",
    "import mrcnn.model as modellib\n",
    "from mrcnn.model import log\n",
    "\n",
    "from samples.graves import graves_new as graves\n",
    "\n",
    "%matplotlib inline \n",
    "\n",
    "# Directory to save logs and trained model\n",
    "MODEL_DIR = os.path.join(ROOT_DIR, \"logs\")\n",
    "\n",
    "# Local path to trained weights file\n",
    "GRAVES_MODEL_PATH = \"/media/thorsteinngj/c1f0e49d-1218-4d11-ab9f-aadb4a021648/home/thorsteinngj/Documents/Thesis/logs/graves20191120T1801/mask_rcnn_graves_0079.h5\"  # TODO: update this path"
   ]
  },
  {
   "cell_type": "code",
   "execution_count": 2,
   "metadata": {
    "collapsed": true
   },
   "outputs": [],
   "source": [
    "# Run one of the code blocks\n",
    "\n",
    "# Shapes toy dataset\n",
    "# import shapes\n",
    "# config = shapes.ShapesConfig()\n",
    "\n",
    "# MS COCO Dataset\n",
    "config = graves.CustomConfig()\n",
    "GRAVES_DIR = os.path.join(ROOT_DIR, \"samples/graves\")"
   ]
  },
  {
   "cell_type": "code",
   "execution_count": 3,
   "metadata": {},
   "outputs": [
    {
     "name": "stdout",
     "output_type": "stream",
     "text": [
      "\n",
      "Configurations:\n",
      "BACKBONE                       resnet101\n",
      "BACKBONE_STRIDES               [4, 8, 16, 32, 64]\n",
      "BATCH_SIZE                     1\n",
      "BBOX_STD_DEV                   [ 0.1  0.1  0.2  0.2]\n",
      "COMPUTE_BACKBONE_SHAPE         None\n",
      "DETECTION_MAX_INSTANCES        100\n",
      "DETECTION_MIN_CONFIDENCE       0.8\n",
      "DETECTION_NMS_THRESHOLD        0.3\n",
      "FPN_CLASSIF_FC_LAYERS_SIZE     1024\n",
      "GPU_COUNT                      1\n",
      "GRADIENT_CLIP_NORM             5.0\n",
      "IMAGES_PER_GPU                 1\n",
      "IMAGE_CHANNEL_COUNT            3\n",
      "IMAGE_MAX_DIM                  1024\n",
      "IMAGE_META_SIZE                20\n",
      "IMAGE_MIN_DIM                  800\n",
      "IMAGE_MIN_SCALE                0\n",
      "IMAGE_RESIZE_MODE              square\n",
      "IMAGE_SHAPE                    [1024 1024    3]\n",
      "LEARNING_MOMENTUM              0.9\n",
      "LEARNING_RATE                  0.001\n",
      "LOSS_WEIGHTS                   {'rpn_class_loss': 1.0, 'rpn_bbox_loss': 1.0, 'mrcnn_class_loss': 1.0, 'mrcnn_bbox_loss': 1.0, 'mrcnn_mask_loss': 1.0}\n",
      "MASK_POOL_SIZE                 14\n",
      "MASK_SHAPE                     [28, 28]\n",
      "MAX_GT_INSTANCES               100\n",
      "MEAN_PIXEL                     [ 123.7  116.8  103.9]\n",
      "MINI_MASK_SHAPE                (56, 56)\n",
      "NAME                           graves\n",
      "NUM_CLASSES                    8\n",
      "POOL_SIZE                      7\n",
      "POST_NMS_ROIS_INFERENCE        1000\n",
      "POST_NMS_ROIS_TRAINING         2000\n",
      "PRE_NMS_LIMIT                  6000\n",
      "ROI_POSITIVE_RATIO             0.33\n",
      "RPN_ANCHOR_RATIOS              [0.5, 1, 2]\n",
      "RPN_ANCHOR_SCALES              (32, 64, 128, 256, 512)\n",
      "RPN_ANCHOR_STRIDE              1\n",
      "RPN_BBOX_STD_DEV               [ 0.1  0.1  0.2  0.2]\n",
      "RPN_NMS_THRESHOLD              0.7\n",
      "RPN_TRAIN_ANCHORS_PER_IMAGE    256\n",
      "STEPS_PER_EPOCH                100\n",
      "TOP_DOWN_PYRAMID_SIZE          256\n",
      "TRAIN_BN                       False\n",
      "TRAIN_ROIS_PER_IMAGE           200\n",
      "USE_MINI_MASK                  True\n",
      "USE_RPN_ROIS                   True\n",
      "VALIDATION_STEPS               50\n",
      "WEIGHT_DECAY                   0.0001\n",
      "\n",
      "\n"
     ]
    }
   ],
   "source": [
    "# Override the training configurations with a few\n",
    "# changes for inferencing.\n",
    "class InferenceConfig(config.__class__):\n",
    "    # Run detection on one image at a time\n",
    "    GPU_COUNT = 1\n",
    "    IMAGES_PER_GPU = 1\n",
    "\n",
    "config = InferenceConfig()\n",
    "config.display()"
   ]
  },
  {
   "cell_type": "code",
   "execution_count": 4,
   "metadata": {
    "collapsed": true
   },
   "outputs": [],
   "source": [
    "# Device to load the neural network on.\n",
    "# Useful if you're training a model on the same \n",
    "# machine, in which case use CPU and leave the\n",
    "# GPU for training.\n",
    "DEVICE = \"/cpu:0\"  # /cpu:0 or /gpu:0\n",
    "\n",
    "# Inspect the model in training or inference modes\n",
    "# values: 'inference' or 'training'\n",
    "# TODO: code for 'training' test mode not ready yet\n",
    "TEST_MODE = \"inference\""
   ]
  },
  {
   "cell_type": "code",
   "execution_count": 5,
   "metadata": {
    "collapsed": true
   },
   "outputs": [],
   "source": [
    "def get_ax(rows=1, cols=1, size=16):\n",
    "    \"\"\"Return a Matplotlib Axes array to be used in\n",
    "    all visualizations in the notebook. Provide a\n",
    "    central point to control graph sizes.\n",
    "    \n",
    "    Adjust the size attribute to control how big to render images\n",
    "    \"\"\"\n",
    "    _, ax = plt.subplots(rows, cols, figsize=(size*cols, size*rows))\n",
    "    return ax"
   ]
  },
  {
   "cell_type": "code",
   "execution_count": 6,
   "metadata": {},
   "outputs": [
    {
     "name": "stdout",
     "output_type": "stream",
     "text": [
      "Images: 68\n",
      "Classes: ['BG', 'angel', 'bible', 'cross', 'david', 'dove', 'person', 'praying']\n"
     ]
    }
   ],
   "source": [
    "# Load validation dataset\n",
    "dataset = graves.CustomDataset()\n",
    "dataset.load_custom(\"/home/thorsteinngj/Documents/Skoli/Thesis/Code/Mask_RCNN/samples/graves/new_dataset/\",\"val\")\n",
    "#dataset.load_custom(BALLOON_DIR, \"/dataset/val\")\n",
    "\n",
    "# Must call before using the dataset\n",
    "dataset.prepare()\n",
    "\n",
    "print(\"Images: {}\\nClasses: {}\".format(len(dataset.image_ids), dataset.class_names))"
   ]
  },
  {
   "cell_type": "code",
   "execution_count": 9,
   "metadata": {},
   "outputs": [
    {
     "name": "stdout",
     "output_type": "stream",
     "text": [
      "Loading weights  /media/thorsteinngj/c1f0e49d-1218-4d11-ab9f-aadb4a021648/home/thorsteinngj/Documents/Thesis/logs/graves20191120T1801/mask_rcnn_graves_0079.h5\n",
      "Re-starting from epoch 79\n"
     ]
    }
   ],
   "source": [
    "# Create model in inference mode\n",
    "with tf.device(DEVICE):\n",
    "    model = modellib.MaskRCNN(mode=\"inference\", model_dir=MODEL_DIR,\n",
    "                              config=config)\n",
    "\n",
    "# Set weights file path\n",
    "if config.NAME == \"graves\":\n",
    "    weights_path = GRAVES_MODEL_PATH\n",
    "elif config.NAME == \"coco\":\n",
    "    weights_path = COCO_MODEL_PATH\n",
    "# Or, uncomment to load the last model you trained\n",
    "# weights_path = model.find_last()\n",
    "\n",
    "# Load weights\n",
    "print(\"Loading weights \", weights_path)\n",
    "model.load_weights(weights_path, by_name=True)"
   ]
  },
  {
   "cell_type": "markdown",
   "metadata": {},
   "source": [
    "### Evaluation of class-level accuracy\n",
    "Here I evaluate roughly how the well each class is being recognized."
   ]
  },
  {
   "cell_type": "code",
   "execution_count": 10,
   "metadata": {},
   "outputs": [
    {
     "name": "stdout",
     "output_type": "stream",
     "text": [
      "0\n",
      "1\n",
      "2\n",
      "3\n",
      "4\n",
      "5\n",
      "6\n",
      "7\n",
      "8\n",
      "9\n",
      "10\n",
      "11\n",
      "12\n",
      "13\n",
      "14\n",
      "15\n",
      "16\n",
      "17\n",
      "18\n",
      "19\n",
      "20\n",
      "21\n",
      "22\n",
      "23\n",
      "24\n",
      "25\n",
      "26\n",
      "27\n",
      "28\n",
      "29\n",
      "30\n",
      "31\n",
      "32\n",
      "33\n",
      "34\n",
      "35\n",
      "36\n",
      "37\n",
      "38\n",
      "39\n",
      "40\n",
      "41\n",
      "42\n",
      "43\n",
      "44\n",
      "45\n",
      "46\n",
      "47\n",
      "48\n",
      "49\n",
      "50\n",
      "51\n",
      "52\n",
      "53\n",
      "54\n",
      "55\n",
      "56\n",
      "57\n",
      "58\n",
      "59\n",
      "60\n",
      "61\n",
      "62\n",
      "63\n",
      "64\n",
      "65\n",
      "66\n",
      "67\n"
     ]
    }
   ],
   "source": [
    "# Just simply checking if we're getting anything close from the checks.\n",
    "def compute_batch_ap(image_ids):\n",
    "    classes = []\n",
    "    for image_id in image_ids:\n",
    "        # Load image\n",
    "        image, image_meta, gt_class_id, gt_bbox, gt_mask =\\\n",
    "            modellib.load_image_gt(dataset, config,\n",
    "                                   image_id, use_mini_mask=False)\n",
    "        # Run object detection\n",
    "        results = model.detect([image], verbose=0)\n",
    "        # Compute AP\n",
    "        r = results[0]\n",
    "        data = {'True classes': gt_class_id,'Detected classes':r['class_ids'],'True mask':gt_mask,'Found_mask':r['masks'],'image':image_id}\n",
    "        classes.append(data)\n",
    "    return classes\n",
    "\n",
    "# Pick a set of random images\n",
    "#image_ids = np.random.choice(dataset.image_ids, 68)\n",
    "image_ids = dataset.image_ids\n",
    "classes_all = compute_batch_ap(image_ids)\n",
    "#print(\"mAP @ IoU=50: \", np.mean(APs))"
   ]
  },
  {
   "cell_type": "code",
   "execution_count": 11,
   "metadata": {},
   "outputs": [
    {
     "name": "stdout",
     "output_type": "stream",
     "text": [
      "Image number 0\n",
      "[5 7]\n",
      "[7 5]\n",
      "Image number 1\n",
      "[5 3]\n",
      "[3 7]\n",
      "Image number 2\n",
      "[5]\n",
      "[]\n",
      "Image number 3\n",
      "[5]\n",
      "[4]\n",
      "Image number 4\n",
      "[5 5]\n",
      "[]\n",
      "Image number 5\n",
      "[2 5 5 2]\n",
      "[2 2 7]\n",
      "Image number 6\n",
      "[5]\n",
      "[5]\n",
      "Image number 7\n",
      "[7 7]\n",
      "[]\n",
      "Image number 8\n",
      "[5 5]\n",
      "[5 5]\n",
      "Image number 9\n",
      "[3 5 5]\n",
      "[3 5]\n",
      "Image number 10\n",
      "[5]\n",
      "[7]\n",
      "Image number 11\n",
      "[3 5]\n",
      "[3]\n",
      "Image number 12\n",
      "[5]\n",
      "[5]\n",
      "Image number 13\n",
      "[5 3]\n",
      "[3 6]\n",
      "Image number 14\n",
      "[3 5 3 5]\n",
      "[7]\n",
      "Image number 15\n",
      "[7]\n",
      "[7]\n",
      "Image number 16\n",
      "[7]\n",
      "[7]\n",
      "Image number 17\n",
      "[7 3]\n",
      "[3 7]\n",
      "Image number 18\n",
      "[7]\n",
      "[7]\n",
      "Image number 19\n",
      "[7]\n",
      "[7]\n",
      "Image number 20\n",
      "[7]\n",
      "[7 1]\n",
      "Image number 21\n",
      "[7 3]\n",
      "[7 3]\n",
      "Image number 22\n",
      "[7]\n",
      "[7]\n",
      "Image number 23\n",
      "[7 3]\n",
      "[3 7]\n",
      "Image number 24\n",
      "[7]\n",
      "[7 2]\n",
      "Image number 25\n",
      "[3 3 2 7 2]\n",
      "[3 3 2 2 7]\n",
      "Image number 26\n",
      "[4]\n",
      "[4]\n",
      "Image number 27\n",
      "[4]\n",
      "[4]\n",
      "Image number 28\n",
      "[4]\n",
      "[4]\n",
      "Image number 29\n",
      "[4]\n",
      "[]\n",
      "Image number 30\n",
      "[4]\n",
      "[]\n",
      "Image number 31\n",
      "[4]\n",
      "[4]\n",
      "Image number 32\n",
      "[4]\n",
      "[]\n",
      "Image number 33\n",
      "[3 1]\n",
      "[3 1]\n",
      "Image number 34\n",
      "[3 1]\n",
      "[1]\n",
      "Image number 35\n",
      "[1]\n",
      "[1]\n",
      "Image number 36\n",
      "[3 2 3 1]\n",
      "[3 2 1]\n",
      "Image number 37\n",
      "[1 1]\n",
      "[]\n",
      "Image number 38\n",
      "[1]\n",
      "[1]\n",
      "Image number 39\n",
      "[1 1]\n",
      "[1 3 1]\n",
      "Image number 40\n",
      "[7 7 2 2]\n",
      "[2 2 7 7]\n",
      "Image number 41\n",
      "[2 2]\n",
      "[2 2]\n",
      "Image number 42\n",
      "[2]\n",
      "[2]\n",
      "Image number 43\n",
      "[2 2]\n",
      "[2 2]\n",
      "Image number 44\n",
      "[2 2]\n",
      "[2 2]\n",
      "Image number 45\n",
      "[2]\n",
      "[2 2 5]\n",
      "Image number 46\n",
      "[7 2]\n",
      "[2]\n",
      "Image number 47\n",
      "[2 2]\n",
      "[2 2]\n",
      "Image number 48\n",
      "[3]\n",
      "[]\n",
      "Image number 49\n",
      "[3]\n",
      "[]\n",
      "Image number 50\n",
      "[3]\n",
      "[3]\n",
      "Image number 51\n",
      "[3]\n",
      "[3]\n",
      "Image number 52\n",
      "[3]\n",
      "[3]\n",
      "Image number 53\n",
      "[3 3]\n",
      "[5]\n",
      "Image number 54\n",
      "[3]\n",
      "[3]\n",
      "Image number 55\n",
      "[3]\n",
      "[3]\n",
      "Image number 56\n",
      "[6]\n",
      "[6]\n",
      "Image number 57\n",
      "[6]\n",
      "[6]\n",
      "Image number 58\n",
      "[6]\n",
      "[6]\n",
      "Image number 59\n",
      "[6]\n",
      "[6]\n",
      "Image number 60\n",
      "[6]\n",
      "[6]\n",
      "Image number 61\n",
      "[6]\n",
      "[6]\n",
      "Image number 62\n",
      "[6]\n",
      "[6]\n",
      "Image number 63\n",
      "[6]\n",
      "[6]\n",
      "Image number 64\n",
      "[6]\n",
      "[6]\n",
      "Image number 65\n",
      "[6]\n",
      "[6]\n",
      "Image number 66\n",
      "[6]\n",
      "[6]\n",
      "Image number 67\n",
      "[6]\n",
      "[6]\n"
     ]
    }
   ],
   "source": [
    "for i in range(len(classes_all)):\n",
    "    print('Image number '+str(i))\n",
    "    print(classes_all[i]['True classes'])\n",
    "    print(classes_all[i]['Detected classes'])"
   ]
  },
  {
   "cell_type": "code",
   "execution_count": 12,
   "metadata": {},
   "outputs": [
    {
     "data": {
      "image/png": "[encoded data removed]",
      "text/plain": [
       "<Figure size 1440x720 with 1 Axes>"
      ]
     },
     "metadata": {},
     "output_type": "display_data"
    }
   ],
   "source": [
    "import numpy as np\n",
    "from collections import Counter\n",
    "#len(classes_all[2]['Detected classes'])\n",
    "\n",
    "\n",
    "true_numbers = []\n",
    "false_numbers = []\n",
    "\n",
    "for i in range(len(classes_all)):\n",
    "    for j in range(len(classes_all[i]['True classes'])):\n",
    "        if (np.size(classes_all[i]['True classes']) > 0):\n",
    "            true_numbers.append(classes_all[i]['True classes'][j])\n",
    "    for k in range(len(classes_all[i]['Detected classes'])):\n",
    "        if (np.size(classes_all[i]['Detected classes']) > 0):\n",
    "            false_numbers.append(classes_all[i]['Detected classes'][k])\n",
    "            \n",
    "true_pos = []\n",
    "false_pos = []\n",
    "undetected = []\n",
    "\n",
    "from collections import Counter\n",
    "import matplotlib.pyplot as plt\n",
    "\n",
    "for i in range(len(classes_all)):\n",
    "    if (np.size(classes_all[i]['Detected classes']) > 0):\n",
    "        for k in range(len(classes_all[i]['Detected classes'])):\n",
    "            if classes_all[i]['Detected classes'][k] in classes_all[i]['True classes']:\n",
    "                true_pos.append(classes_all[i]['Detected classes'][k])\n",
    "            else:\n",
    "                false_pos.append(classes_all[i]['Detected classes'][k])\n",
    "    else:\n",
    "        if (np.size(classes_all[i]['True classes']) > 0):\n",
    "            for k in range(len(classes_all[i]['True classes'])):\n",
    "                undetected.append(classes_all[i]['True classes'][k])\n",
    "\n",
    "w = Counter(true_pos)\n",
    "z = Counter(false_pos)\n",
    "x = Counter(undetected)\n",
    "y = Counter(true_numbers)\n",
    "\n",
    "plt.figure(figsize=(20,10))\n",
    "plt.title('Current performance of model after 47 epochs with new_dataset')\n",
    "plt.bar(w.keys(), w.values(),label='True positives',alpha=0.5,color='g',align='edge',width=0.25)\n",
    "plt.bar(z.keys(), z.values(),label='False positives',alpha=0.5,color='r',width=0.25)\n",
    "plt.bar(x.keys(), x.values(),label='Undetected',alpha=0.5,color='k',width=0.1)\n",
    "plt.bar(y.keys(), y.values(),label='Total symbols',alpha=0.5,color='y',width=0.1,align='edge')\n",
    "plt.ylabel('Number of symbols')\n",
    "#plt.xticks(np.arange(1,8), ('Cross', 'Bible', 'Praying', 'Rings', 'God','Jesus','Other'))\n",
    "plt.xticks(np.arange(1,8), ('Angel', 'Bible', 'Cross', 'David', 'Dove','Person','Praying'))\n",
    "plt.xlabel('Symbol type')\n",
    "plt.legend()\n",
    "plt.show()"
   ]
  },
  {
   "cell_type": "code",
   "execution_count": 36,
   "metadata": {},
   "outputs": [
    {
     "data": {
      "text/plain": [
       "[3,\n",
       " 1,\n",
       " 1,\n",
       " 1,\n",
       " 1,\n",
       " 2,\n",
       " 1,\n",
       " 2,\n",
       " 1,\n",
       " 1,\n",
       " 1,\n",
       " 1,\n",
       " 1,\n",
       " 1,\n",
       " 1,\n",
       " 2,\n",
       " 2,\n",
       " 2,\n",
       " 2,\n",
       " 2,\n",
       " 2,\n",
       " 7,\n",
       " 1,\n",
       " 7,\n",
       " 5,\n",
       " 5,\n",
       " 1,\n",
       " 1,\n",
       " 1,\n",
       " 3,\n",
       " 1,\n",
       " 3]"
      ]
     },
     "execution_count": 36,
     "metadata": {},
     "output_type": "execute_result"
    }
   ],
   "source": [
    "false_pos"
   ]
  },
  {
   "cell_type": "code",
   "execution_count": 24,
   "metadata": {
    "collapsed": true
   },
   "outputs": [],
   "source": []
  },
  {
   "cell_type": "code",
   "execution_count": 25,
   "metadata": {
    "collapsed": true
   },
   "outputs": [],
   "source": [
    "for i in range(len(classes_all)):\n",
    "    if (np.size(classes_all[i]['Detected classes']) > 0):\n",
    "        for k in range(len(classes_all[i]['Detected classes'])):\n",
    "            if classes_all[i]['Detected classes'][k] in classes_all[i]['True classes']:\n",
    "                true_pos.append(classes_all[i]['Detected classes'][k])\n",
    "            else:\n",
    "                false_pos.append(classes_all[i]['Detected classes'][k])\n",
    "    else:\n",
    "        if (np.size(classes_all[i]['True classes']) > 0):\n",
    "            for k in range(len(classes_all[i]['True classes'])):\n",
    "                undetected.append(classes_all[i]['True classes'][k])"
   ]
  },
  {
   "cell_type": "code",
   "execution_count": 53,
   "metadata": {},
   "outputs": [
    {
     "data": {
      "text/plain": [
       "[3,\n",
       " 3,\n",
       " 3,\n",
       " 7,\n",
       " 7,\n",
       " 2,\n",
       " 7,\n",
       " 1,\n",
       " 1,\n",
       " 2,\n",
       " 2,\n",
       " 2,\n",
       " 3,\n",
       " 3,\n",
       " 3,\n",
       " 3,\n",
       " 6,\n",
       " 6,\n",
       " 6,\n",
       " 6,\n",
       " 6,\n",
       " 6,\n",
       " 6,\n",
       " 6,\n",
       " 6,\n",
       " 6,\n",
       " 6]"
      ]
     },
     "execution_count": 53,
     "metadata": {},
     "output_type": "execute_result"
    }
   ],
   "source": [
    "true_pos"
   ]
  },
  {
   "cell_type": "code",
   "execution_count": 26,
   "metadata": {
    "collapsed": true
   },
   "outputs": [],
   "source": [
    "from collections import Counter\n",
    "import matplotlib.pyplot as plt\n",
    "\n",
    "w = Counter(true_pos)\n",
    "z = Counter(false_pos)\n",
    "x = Counter(undetected)\n",
    "y = Counter(true_numbers)"
   ]
  },
  {
   "cell_type": "code",
   "execution_count": 27,
   "metadata": {},
   "outputs": [
    {
     "data": {
      "text/plain": [
       "Counter({1: 26, 2: 27, 3: 19, 4: 6, 5: 11, 6: 12, 7: 13})"
      ]
     },
     "execution_count": 27,
     "metadata": {},
     "output_type": "execute_result"
    }
   ],
   "source": [
    "w+x+z"
   ]
  },
  {
   "cell_type": "code",
   "execution_count": 28,
   "metadata": {},
   "outputs": [
    {
     "data": {
      "text/plain": [
       "Counter({1: 9, 2: 18, 3: 24, 4: 7, 5: 19, 6: 12, 7: 17})"
      ]
     },
     "execution_count": 28,
     "metadata": {},
     "output_type": "execute_result"
    }
   ],
   "source": [
    "y"
   ]
  },
  {
   "cell_type": "code",
   "execution_count": 34,
   "metadata": {},
   "outputs": [
    {
     "ename": "IndexError",
     "evalue": "list index out of range",
     "output_type": "error",
     "traceback": [
      "\u001b[0;31m---------------------------------------------------------------------------\u001b[0m",
      "\u001b[0;31mIndexError\u001b[0m                                Traceback (most recent call last)",
      "\u001b[0;32m<ipython-input-34-d47730d71f2c>\u001b[0m in \u001b[0;36m<module>\u001b[0;34m()\u001b[0m\n\u001b[1;32m      9\u001b[0m \u001b[0mplt\u001b[0m\u001b[0;34m.\u001b[0m\u001b[0mxticks\u001b[0m\u001b[0;34m(\u001b[0m\u001b[0mnp\u001b[0m\u001b[0;34m.\u001b[0m\u001b[0marange\u001b[0m\u001b[0;34m(\u001b[0m\u001b[0;36m1\u001b[0m\u001b[0;34m,\u001b[0m\u001b[0;36m8\u001b[0m\u001b[0;34m)\u001b[0m\u001b[0;34m,\u001b[0m \u001b[0;34m(\u001b[0m\u001b[0;34m'Angel'\u001b[0m\u001b[0;34m,\u001b[0m \u001b[0;34m'Bible'\u001b[0m\u001b[0;34m,\u001b[0m \u001b[0;34m'Cross'\u001b[0m\u001b[0;34m,\u001b[0m \u001b[0;34m'David'\u001b[0m\u001b[0;34m,\u001b[0m \u001b[0;34m'Dove'\u001b[0m\u001b[0;34m,\u001b[0m\u001b[0;34m'Person'\u001b[0m\u001b[0;34m,\u001b[0m\u001b[0;34m'Praying'\u001b[0m\u001b[0;34m)\u001b[0m\u001b[0;34m)\u001b[0m\u001b[0;34m\u001b[0m\u001b[0;34m\u001b[0m\u001b[0m\n\u001b[1;32m     10\u001b[0m \u001b[0mplt\u001b[0m\u001b[0;34m.\u001b[0m\u001b[0mxlabel\u001b[0m\u001b[0;34m(\u001b[0m\u001b[0;34m'Symbol type'\u001b[0m\u001b[0;34m)\u001b[0m\u001b[0;34m\u001b[0m\u001b[0;34m\u001b[0m\u001b[0m\n\u001b[0;32m---> 11\u001b[0;31m \u001b[0mplt\u001b[0m\u001b[0;34m.\u001b[0m\u001b[0mlegend\u001b[0m\u001b[0;34m(\u001b[0m\u001b[0;34m)\u001b[0m\u001b[0;34m\u001b[0m\u001b[0;34m\u001b[0m\u001b[0m\n\u001b[0m\u001b[1;32m     12\u001b[0m \u001b[0mplt\u001b[0m\u001b[0;34m.\u001b[0m\u001b[0mshow\u001b[0m\u001b[0;34m(\u001b[0m\u001b[0;34m)\u001b[0m\u001b[0;34m\u001b[0m\u001b[0;34m\u001b[0m\u001b[0m\n",
      "\u001b[0;32m~/anaconda3/lib/python3.6/site-packages/matplotlib/pyplot.py\u001b[0m in \u001b[0;36mlegend\u001b[0;34m(*args, **kwargs)\u001b[0m\n\u001b[1;32m   3816\u001b[0m \u001b[0;34m@\u001b[0m\u001b[0mdocstring\u001b[0m\u001b[0;34m.\u001b[0m\u001b[0mcopy_dedent\u001b[0m\u001b[0;34m(\u001b[0m\u001b[0mAxes\u001b[0m\u001b[0;34m.\u001b[0m\u001b[0mlegend\u001b[0m\u001b[0;34m)\u001b[0m\u001b[0;34m\u001b[0m\u001b[0;34m\u001b[0m\u001b[0m\n\u001b[1;32m   3817\u001b[0m \u001b[0;32mdef\u001b[0m \u001b[0mlegend\u001b[0m\u001b[0;34m(\u001b[0m\u001b[0;34m*\u001b[0m\u001b[0margs\u001b[0m\u001b[0;34m,\u001b[0m \u001b[0;34m**\u001b[0m\u001b[0mkwargs\u001b[0m\u001b[0;34m)\u001b[0m\u001b[0;34m:\u001b[0m\u001b[0;34m\u001b[0m\u001b[0;34m\u001b[0m\u001b[0m\n\u001b[0;32m-> 3818\u001b[0;31m     \u001b[0mret\u001b[0m \u001b[0;34m=\u001b[0m \u001b[0mgca\u001b[0m\u001b[0;34m(\u001b[0m\u001b[0;34m)\u001b[0m\u001b[0;34m.\u001b[0m\u001b[0mlegend\u001b[0m\u001b[0;34m(\u001b[0m\u001b[0;34m*\u001b[0m\u001b[0margs\u001b[0m\u001b[0;34m,\u001b[0m \u001b[0;34m**\u001b[0m\u001b[0mkwargs\u001b[0m\u001b[0;34m)\u001b[0m\u001b[0;34m\u001b[0m\u001b[0;34m\u001b[0m\u001b[0m\n\u001b[0m\u001b[1;32m   3819\u001b[0m     \u001b[0;32mreturn\u001b[0m \u001b[0mret\u001b[0m\u001b[0;34m\u001b[0m\u001b[0;34m\u001b[0m\u001b[0m\n\u001b[1;32m   3820\u001b[0m \u001b[0;34m\u001b[0m\u001b[0m\n",
      "\u001b[0;32m~/anaconda3/lib/python3.6/site-packages/matplotlib/axes/_axes.py\u001b[0m in \u001b[0;36mlegend\u001b[0;34m(self, *args, **kwargs)\u001b[0m\n\u001b[1;32m    555\u001b[0m         \u001b[0;32mif\u001b[0m \u001b[0mlen\u001b[0m\u001b[0;34m(\u001b[0m\u001b[0mextra_args\u001b[0m\u001b[0;34m)\u001b[0m\u001b[0;34m:\u001b[0m\u001b[0;34m\u001b[0m\u001b[0;34m\u001b[0m\u001b[0m\n\u001b[1;32m    556\u001b[0m             \u001b[0;32mraise\u001b[0m \u001b[0mTypeError\u001b[0m\u001b[0;34m(\u001b[0m\u001b[0;34m'legend only accepts two non-keyword arguments'\u001b[0m\u001b[0;34m)\u001b[0m\u001b[0;34m\u001b[0m\u001b[0;34m\u001b[0m\u001b[0m\n\u001b[0;32m--> 557\u001b[0;31m         \u001b[0mself\u001b[0m\u001b[0;34m.\u001b[0m\u001b[0mlegend_\u001b[0m \u001b[0;34m=\u001b[0m \u001b[0mmlegend\u001b[0m\u001b[0;34m.\u001b[0m\u001b[0mLegend\u001b[0m\u001b[0;34m(\u001b[0m\u001b[0mself\u001b[0m\u001b[0;34m,\u001b[0m \u001b[0mhandles\u001b[0m\u001b[0;34m,\u001b[0m \u001b[0mlabels\u001b[0m\u001b[0;34m,\u001b[0m \u001b[0;34m**\u001b[0m\u001b[0mkwargs\u001b[0m\u001b[0;34m)\u001b[0m\u001b[0;34m\u001b[0m\u001b[0;34m\u001b[0m\u001b[0m\n\u001b[0m\u001b[1;32m    558\u001b[0m         \u001b[0mself\u001b[0m\u001b[0;34m.\u001b[0m\u001b[0mlegend_\u001b[0m\u001b[0;34m.\u001b[0m\u001b[0m_remove_method\u001b[0m \u001b[0;34m=\u001b[0m \u001b[0;32mlambda\u001b[0m \u001b[0mh\u001b[0m\u001b[0;34m:\u001b[0m \u001b[0msetattr\u001b[0m\u001b[0;34m(\u001b[0m\u001b[0mself\u001b[0m\u001b[0;34m,\u001b[0m \u001b[0;34m'legend_'\u001b[0m\u001b[0;34m,\u001b[0m \u001b[0;32mNone\u001b[0m\u001b[0;34m)\u001b[0m\u001b[0;34m\u001b[0m\u001b[0;34m\u001b[0m\u001b[0m\n\u001b[1;32m    559\u001b[0m         \u001b[0;32mreturn\u001b[0m \u001b[0mself\u001b[0m\u001b[0;34m.\u001b[0m\u001b[0mlegend_\u001b[0m\u001b[0;34m\u001b[0m\u001b[0;34m\u001b[0m\u001b[0m\n",
      "\u001b[0;32m~/anaconda3/lib/python3.6/site-packages/matplotlib/legend.py\u001b[0m in \u001b[0;36m__init__\u001b[0;34m(self, parent, handles, labels, loc, numpoints, markerscale, markerfirst, scatterpoints, scatteryoffsets, prop, fontsize, borderpad, labelspacing, handlelength, handleheight, handletextpad, borderaxespad, columnspacing, ncol, mode, fancybox, shadow, title, framealpha, edgecolor, facecolor, bbox_to_anchor, bbox_transform, frameon, handler_map)\u001b[0m\n\u001b[1;32m    698\u001b[0m \u001b[0;34m\u001b[0m\u001b[0m\n\u001b[1;32m    699\u001b[0m         \u001b[0;31m# init with null renderer\u001b[0m\u001b[0;34m\u001b[0m\u001b[0;34m\u001b[0m\u001b[0;34m\u001b[0m\u001b[0m\n\u001b[0;32m--> 700\u001b[0;31m         \u001b[0mself\u001b[0m\u001b[0;34m.\u001b[0m\u001b[0m_init_legend_box\u001b[0m\u001b[0;34m(\u001b[0m\u001b[0mhandles\u001b[0m\u001b[0;34m,\u001b[0m \u001b[0mlabels\u001b[0m\u001b[0;34m,\u001b[0m \u001b[0mmarkerfirst\u001b[0m\u001b[0;34m)\u001b[0m\u001b[0;34m\u001b[0m\u001b[0;34m\u001b[0m\u001b[0m\n\u001b[0m\u001b[1;32m    701\u001b[0m \u001b[0;34m\u001b[0m\u001b[0m\n\u001b[1;32m    702\u001b[0m         \u001b[0;31m# If shadow is activated use framealpha if not\u001b[0m\u001b[0;34m\u001b[0m\u001b[0;34m\u001b[0m\u001b[0;34m\u001b[0m\u001b[0m\n",
      "\u001b[0;32m~/anaconda3/lib/python3.6/site-packages/matplotlib/legend.py\u001b[0m in \u001b[0;36m_init_legend_box\u001b[0;34m(self, handles, labels, markerfirst)\u001b[0m\n\u001b[1;32m    953\u001b[0m                 \u001b[0;31m# original artist/handle.\u001b[0m\u001b[0;34m\u001b[0m\u001b[0;34m\u001b[0m\u001b[0;34m\u001b[0m\u001b[0m\n\u001b[1;32m    954\u001b[0m                 handle_list.append(handler.legend_artist(self, orig_handle,\n\u001b[0;32m--> 955\u001b[0;31m                                                          fontsize, handlebox))\n\u001b[0m\u001b[1;32m    956\u001b[0m                 \u001b[0mhandles_and_labels\u001b[0m\u001b[0;34m.\u001b[0m\u001b[0mappend\u001b[0m\u001b[0;34m(\u001b[0m\u001b[0;34m(\u001b[0m\u001b[0mhandlebox\u001b[0m\u001b[0;34m,\u001b[0m \u001b[0mtextbox\u001b[0m\u001b[0;34m)\u001b[0m\u001b[0;34m)\u001b[0m\u001b[0;34m\u001b[0m\u001b[0;34m\u001b[0m\u001b[0m\n\u001b[1;32m    957\u001b[0m \u001b[0;34m\u001b[0m\u001b[0m\n",
      "\u001b[0;32m~/anaconda3/lib/python3.6/site-packages/matplotlib/legend_handler.py\u001b[0m in \u001b[0;36mlegend_artist\u001b[0;34m(self, legend, orig_handle, fontsize, handlebox)\u001b[0m\n\u001b[1;32m    117\u001b[0m         artists = self.create_artists(legend, orig_handle,\n\u001b[1;32m    118\u001b[0m                                       \u001b[0mxdescent\u001b[0m\u001b[0;34m,\u001b[0m \u001b[0mydescent\u001b[0m\u001b[0;34m,\u001b[0m \u001b[0mwidth\u001b[0m\u001b[0;34m,\u001b[0m \u001b[0mheight\u001b[0m\u001b[0;34m,\u001b[0m\u001b[0;34m\u001b[0m\u001b[0;34m\u001b[0m\u001b[0m\n\u001b[0;32m--> 119\u001b[0;31m                                       fontsize, handlebox.get_transform())\n\u001b[0m\u001b[1;32m    120\u001b[0m \u001b[0;34m\u001b[0m\u001b[0m\n\u001b[1;32m    121\u001b[0m         \u001b[0;31m# create_artists will return a list of artists.\u001b[0m\u001b[0;34m\u001b[0m\u001b[0;34m\u001b[0m\u001b[0;34m\u001b[0m\u001b[0m\n",
      "\u001b[0;32m~/anaconda3/lib/python3.6/site-packages/matplotlib/legend_handler.py\u001b[0m in \u001b[0;36mcreate_artists\u001b[0;34m(self, legend, orig_handle, xdescent, ydescent, width, height, fontsize, trans)\u001b[0m\n\u001b[1;32m    301\u001b[0m         p = self._create_patch(legend, orig_handle,\n\u001b[1;32m    302\u001b[0m                                xdescent, ydescent, width, height, fontsize)\n\u001b[0;32m--> 303\u001b[0;31m         \u001b[0mself\u001b[0m\u001b[0;34m.\u001b[0m\u001b[0mupdate_prop\u001b[0m\u001b[0;34m(\u001b[0m\u001b[0mp\u001b[0m\u001b[0;34m,\u001b[0m \u001b[0morig_handle\u001b[0m\u001b[0;34m,\u001b[0m \u001b[0mlegend\u001b[0m\u001b[0;34m)\u001b[0m\u001b[0;34m\u001b[0m\u001b[0;34m\u001b[0m\u001b[0m\n\u001b[0m\u001b[1;32m    304\u001b[0m         \u001b[0mp\u001b[0m\u001b[0;34m.\u001b[0m\u001b[0mset_transform\u001b[0m\u001b[0;34m(\u001b[0m\u001b[0mtrans\u001b[0m\u001b[0;34m)\u001b[0m\u001b[0;34m\u001b[0m\u001b[0;34m\u001b[0m\u001b[0m\n\u001b[1;32m    305\u001b[0m         \u001b[0;32mreturn\u001b[0m \u001b[0;34m[\u001b[0m\u001b[0mp\u001b[0m\u001b[0;34m]\u001b[0m\u001b[0;34m\u001b[0m\u001b[0;34m\u001b[0m\u001b[0m\n",
      "\u001b[0;32m~/anaconda3/lib/python3.6/site-packages/matplotlib/legend_handler.py\u001b[0m in \u001b[0;36mupdate_prop\u001b[0;34m(self, legend_handle, orig_handle, legend)\u001b[0m\n\u001b[1;32m     74\u001b[0m     \u001b[0;32mdef\u001b[0m \u001b[0mupdate_prop\u001b[0m\u001b[0;34m(\u001b[0m\u001b[0mself\u001b[0m\u001b[0;34m,\u001b[0m \u001b[0mlegend_handle\u001b[0m\u001b[0;34m,\u001b[0m \u001b[0morig_handle\u001b[0m\u001b[0;34m,\u001b[0m \u001b[0mlegend\u001b[0m\u001b[0;34m)\u001b[0m\u001b[0;34m:\u001b[0m\u001b[0;34m\u001b[0m\u001b[0;34m\u001b[0m\u001b[0m\n\u001b[1;32m     75\u001b[0m \u001b[0;34m\u001b[0m\u001b[0m\n\u001b[0;32m---> 76\u001b[0;31m         \u001b[0mself\u001b[0m\u001b[0;34m.\u001b[0m\u001b[0m_update_prop\u001b[0m\u001b[0;34m(\u001b[0m\u001b[0mlegend_handle\u001b[0m\u001b[0;34m,\u001b[0m \u001b[0morig_handle\u001b[0m\u001b[0;34m)\u001b[0m\u001b[0;34m\u001b[0m\u001b[0;34m\u001b[0m\u001b[0m\n\u001b[0m\u001b[1;32m     77\u001b[0m \u001b[0;34m\u001b[0m\u001b[0m\n\u001b[1;32m     78\u001b[0m         \u001b[0mlegend\u001b[0m\u001b[0;34m.\u001b[0m\u001b[0m_set_artist_props\u001b[0m\u001b[0;34m(\u001b[0m\u001b[0mlegend_handle\u001b[0m\u001b[0;34m)\u001b[0m\u001b[0;34m\u001b[0m\u001b[0;34m\u001b[0m\u001b[0m\n",
      "\u001b[0;32m~/anaconda3/lib/python3.6/site-packages/matplotlib/legend_handler.py\u001b[0m in \u001b[0;36m_update_prop\u001b[0;34m(self, legend_handle, orig_handle)\u001b[0m\n\u001b[1;32m     67\u001b[0m             \u001b[0mself\u001b[0m\u001b[0;34m.\u001b[0m\u001b[0m_default_update_prop\u001b[0m\u001b[0;34m(\u001b[0m\u001b[0mlegend_handle\u001b[0m\u001b[0;34m,\u001b[0m \u001b[0morig_handle\u001b[0m\u001b[0;34m)\u001b[0m\u001b[0;34m\u001b[0m\u001b[0;34m\u001b[0m\u001b[0m\n\u001b[1;32m     68\u001b[0m         \u001b[0;32melse\u001b[0m\u001b[0;34m:\u001b[0m\u001b[0;34m\u001b[0m\u001b[0;34m\u001b[0m\u001b[0m\n\u001b[0;32m---> 69\u001b[0;31m             \u001b[0mself\u001b[0m\u001b[0;34m.\u001b[0m\u001b[0m_update_prop_func\u001b[0m\u001b[0;34m(\u001b[0m\u001b[0mlegend_handle\u001b[0m\u001b[0;34m,\u001b[0m \u001b[0morig_handle\u001b[0m\u001b[0;34m)\u001b[0m\u001b[0;34m\u001b[0m\u001b[0;34m\u001b[0m\u001b[0m\n\u001b[0m\u001b[1;32m     70\u001b[0m \u001b[0;34m\u001b[0m\u001b[0m\n\u001b[1;32m     71\u001b[0m     \u001b[0;32mdef\u001b[0m \u001b[0m_default_update_prop\u001b[0m\u001b[0;34m(\u001b[0m\u001b[0mself\u001b[0m\u001b[0;34m,\u001b[0m \u001b[0mlegend_handle\u001b[0m\u001b[0;34m,\u001b[0m \u001b[0morig_handle\u001b[0m\u001b[0;34m)\u001b[0m\u001b[0;34m:\u001b[0m\u001b[0;34m\u001b[0m\u001b[0;34m\u001b[0m\u001b[0m\n",
      "\u001b[0;32m~/anaconda3/lib/python3.6/site-packages/matplotlib/legend_handler.py\u001b[0m in \u001b[0;36mupdate_from_first_child\u001b[0;34m(tgt, src)\u001b[0m\n\u001b[1;32m     40\u001b[0m \u001b[0;34m\u001b[0m\u001b[0m\n\u001b[1;32m     41\u001b[0m \u001b[0;32mdef\u001b[0m \u001b[0mupdate_from_first_child\u001b[0m\u001b[0;34m(\u001b[0m\u001b[0mtgt\u001b[0m\u001b[0;34m,\u001b[0m \u001b[0msrc\u001b[0m\u001b[0;34m)\u001b[0m\u001b[0;34m:\u001b[0m\u001b[0;34m\u001b[0m\u001b[0;34m\u001b[0m\u001b[0m\n\u001b[0;32m---> 42\u001b[0;31m     \u001b[0mtgt\u001b[0m\u001b[0;34m.\u001b[0m\u001b[0mupdate_from\u001b[0m\u001b[0;34m(\u001b[0m\u001b[0msrc\u001b[0m\u001b[0;34m.\u001b[0m\u001b[0mget_children\u001b[0m\u001b[0;34m(\u001b[0m\u001b[0;34m)\u001b[0m\u001b[0;34m[\u001b[0m\u001b[0;36m0\u001b[0m\u001b[0;34m]\u001b[0m\u001b[0;34m)\u001b[0m\u001b[0;34m\u001b[0m\u001b[0;34m\u001b[0m\u001b[0m\n\u001b[0m\u001b[1;32m     43\u001b[0m \u001b[0;34m\u001b[0m\u001b[0m\n\u001b[1;32m     44\u001b[0m \u001b[0;34m\u001b[0m\u001b[0m\n",
      "\u001b[0;31mIndexError\u001b[0m: list index out of range"
     ]
    },
    {
     "data": {
      "image/png": "[encoded data removed]",
      "text/plain": [
       "<Figure size 1440x720 with 1 Axes>"
      ]
     },
     "metadata": {},
     "output_type": "display_data"
    }
   ],
   "source": [
    "plt.figure(figsize=(20,10))\n",
    "plt.title('Current performance of model after 21 epochs with new_dataset')\n",
    "plt.bar(w.keys(), w.values(),label='True positives',alpha=0.5,color='g',align='edge',width=0.25)\n",
    "plt.bar(z.keys(), z.values(),label='False positives',alpha=0.5,color='r',width=0.25)\n",
    "plt.bar(x.keys(), x.values(),label='Undetected',alpha=0.5,color='k',width=0.1)\n",
    "plt.bar(y.keys(), y.values(),label='Total true',alpha=0.5,color='y',width=0.1,align='edge')\n",
    "plt.ylabel('Number of symbols')\n",
    "#plt.xticks(np.arange(1,8), ('Cross', 'Bible', 'Praying', 'Rings', 'God','Jesus','Other'))\n",
    "plt.xticks(np.arange(1,8), ('Angel', 'Bible', 'Cross', 'David', 'Dove','Person','Praying'))\n",
    "plt.xlabel('Symbol type')\n",
    "plt.legend()\n",
    "plt.show()"
   ]
  },
  {
   "cell_type": "code",
   "execution_count": null,
   "metadata": {
    "collapsed": true
   },
   "outputs": [],
   "source": []
  },
  {
   "cell_type": "code",
   "execution_count": 68,
   "metadata": {},
   "outputs": [
    {
     "data": {
      "image/png": "[encoded data removed]",
      "text/plain": [
       "<matplotlib.figure.Figure at 0x7fac94dd4630>"
      ]
     },
     "metadata": {},
     "output_type": "display_data"
    }
   ],
   "source": [
    "from collections import Counter\n",
    "import matplotlib.pyplot as plt\n",
    "\n",
    "w = Counter(true_numbers)\n",
    "z = Counter(false_numbers)\n",
    "\n",
    "def key_changer(counter):\n",
    "    for i in range(len(counter.keys())):\n",
    "        try:\n",
    "            counter['angel'] = counter.pop(i+1)\n",
    "            counter['bible'] = counter.pop(i+2)\n",
    "            counter['cross'] = counter.pop(i+3)\n",
    "            counter['david'] = counter.pop(i+4)\n",
    "            counter['dove'] = counter.pop(i+5)\n",
    "            counter['person'] = counter.pop(i+6)\n",
    "            counter['praying'] = counter.pop(i+7)\n",
    "        except KeyError:\n",
    "            continue\n",
    "    return counter\n",
    "\n",
    "\n",
    "\n",
    "\n",
    "w_new = key_changer(w)\n",
    "z_new = key_changer(z)\n",
    "\n",
    "\n",
    "indices = range(len(w_new))\n",
    "width = np.min(np.diff(indices))/3.\n",
    "\n",
    "#Still need to figure how to but the bars next to each other, and how to check for each respective stuff.\n",
    "\n",
    "plt.figure(figsize=(20,10))\n",
    "plt.bar(w.keys(), w.values(),label='True classes',alpha=0.5,color='y',align='edge',width=0.25)\n",
    "plt.bar(z.keys(), z.values(),label='Detected classes',alpha=0.5,color='k',width=0.25)\n",
    "plt.ylabel('Number of symbols')\n",
    "plt.xlabel('Symbol type')\n",
    "plt.legend()\n",
    "plt.show()\n"
   ]
  },
  {
   "cell_type": "code",
   "execution_count": 11,
   "metadata": {},
   "outputs": [
    {
     "data": {
      "text/plain": [
       "Counter({1: 98, 2: 51, 3: 22, 4: 22, 5: 2})"
      ]
     },
     "execution_count": 11,
     "metadata": {},
     "output_type": "execute_result"
    }
   ],
   "source": [
    "w = Counter(true_numbers)\n",
    "w"
   ]
  },
  {
   "cell_type": "code",
   "execution_count": 12,
   "metadata": {
    "collapsed": true
   },
   "outputs": [],
   "source": [
    "def key_changer(counter):\n",
    "    for i in range(len(counter.keys())):\n",
    "        try:\n",
    "            counter['cross'] = counter.pop(i+1)\n",
    "            counter['bible'] = counter.pop(i+2)\n",
    "            counter['praying'] = counter.pop(i+3)\n",
    "            counter['rings'] = counter.pop(i+4)\n",
    "            counter['god'] = counter.pop(i+5)\n",
    "            counter['jesus'] = counter.pop(i+6)\n",
    "        except KeyError:\n",
    "            continue\n",
    "    return counter\n"
   ]
  },
  {
   "cell_type": "code",
   "execution_count": 13,
   "metadata": {},
   "outputs": [
    {
     "ename": "SyntaxError",
     "evalue": "invalid syntax (<ipython-input-13-e628687770d9>, line 17)",
     "output_type": "error",
     "traceback": [
      "\u001b[0;36m  File \u001b[0;32m\"<ipython-input-13-e628687770d9>\"\u001b[0;36m, line \u001b[0;32m17\u001b[0m\n\u001b[0;31m    else:\u001b[0m\n\u001b[0m       ^\u001b[0m\n\u001b[0;31mSyntaxError\u001b[0m\u001b[0;31m:\u001b[0m invalid syntax\n"
     ]
    }
   ],
   "source": [
    "def key_changer(counter):\n",
    "    if counter:\n",
    "        counter['cross'] = counter.pop(1)\n",
    "        counter['bible'] = counter.pop(2)\n",
    "        counter['praying'] = counter.pop(3)\n",
    "        counter['rings'] = counter.pop(4)\n",
    "        counter['god'] = counter.pop(5)\n",
    "        counter['jesus'] = counter.pop(6)\n",
    "    if len(counter) >4:\n",
    "        try:\n",
    "            counter['cross'] = counter.pop(1)\n",
    "            counter['bible'] = counter.pop(2)\n",
    "            counter['praying'] = counter.pop(3)\n",
    "            counter['rings'] = counter.pop(4)\n",
    "            #counter['god'] = counter.pop(5)\n",
    "            counter['jesus'] = counter.pop(6)\n",
    "        else:\n",
    "            counter['cross'] = counter.pop(1)\n",
    "            counter['bible'] = counter.pop(2)\n",
    "            counter['praying'] = counter.pop(3)\n",
    "            counter['rings'] = counter.pop(4)\n",
    "    return counter"
   ]
  },
  {
   "cell_type": "code",
   "execution_count": null,
   "metadata": {
    "collapsed": true
   },
   "outputs": [],
   "source": [
    "z"
   ]
  }
 ],
 "metadata": {
  "kernelspec": {
   "display_name": "Python 3",
   "language": "python",
   "name": "python3"
  },
  "language_info": {
   "codemirror_mode": {
    "name": "ipython",
    "version": 3
   },
   "file_extension": ".py",
   "mimetype": "text/x-python",
   "name": "python",
   "nbconvert_exporter": "python",
   "pygments_lexer": "ipython3",
   "version": "3.6.9"
  }
 },
 "nbformat": 4,
 "nbformat_minor": 2
}
